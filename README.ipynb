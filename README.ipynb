{
 "cells": [
  {
   "cell_type": "markdown",
   "metadata": {},
   "source": [
    "## Flight Simulation Game\n",
    "---\n",
    "\n",
    "# Application Overview\n",
    "The Flight Simulation Game application is controlled primarily via the Scoreboard application.  Refer to the latest **flightsimulation_apps** repo for the associated programs.\n",
    "\n",
    "\n",
    "# Launching the Application\n",
    "The following steps are to be carried out on the Raspberry Pi.\n",
    "To launch the Digital Engine Simulator application, simply double-click the Launch Pi.sh icon on the Desktop.  When prompted click on “Execute”.\n",
    "If this does not work correctly, then you can launch the application from the command line by typing:-  \n",
    "\n",
    "```bash\n",
    "> cd ~/<deployment_directory>\n",
    "> sudo python digitalenginesimulator.py digitalenginesimulator.cfg\n",
    "```\n",
    "**Note:** `sudo` is required as root access is needed to access the GPIO \n",
    "\n",
    "\n",
    "# Application Operation\n",
    "The application will wait until a player is selected for play by the Scoreboard application.  Once a player has been selected for play the target profile is drawn, the player name and avatar image is displayed and the player is prompted to press the START button on the handlebars to continue.  A five second countdown is displayed, then the game starts.  The player must peddle the cycle for 90 seconds trying to match the target profile shown, their actual profile is drawn along with an aircraft icon.  At the end of the 90 seconds the game ends and their score is displayed for 10 seconds.  The game then return to idle mode waiting for the next player.  The ESC key can be used to exit the application when it is waiting for the next player.\n",
    "\n",
    "\n",
    "# Software Design\n",
    "The design for the software is shown in the flow diagram below, the code is written entirely in python as a single application.\n",
    "\n",
    "<a href=\"digitalenginesimulator.png\" target=\"_blank\"><img src=\"digitalenginesimulator.png\" alt=\"profile generator design\" style=\"max-width:100%;\"></a></p>\n",
    "\n",
    "\n",
    "# Technology Stack\n",
    "Python 2.7.12  \n",
    "GPIO python library  \n",
    "pygame python library 1.91  \n",
    "MySQLlib python library 1.37  \n",
    "\n",
    "\n",
    "# Going further\n",
    "1. Implementation using classes?\n",
    "2. Animated banners and removal of temporary avatar files?\n",
    "3. Dynamic display of actual revolutions in real time?\n",
    "4. Guage to tell the player whether to peddle faster or slower?"
   ]
  }
 ],
 "metadata": {
  "kernelspec": {
   "display_name": "Python 2",
   "language": "python",
   "name": "python2"
  },
  "language_info": {
   "codemirror_mode": {
    "name": "ipython",
    "version": 2
   },
   "file_extension": ".py",
   "mimetype": "text/x-python",
   "name": "python",
   "nbconvert_exporter": "python",
   "pygments_lexer": "ipython2",
   "version": "2.7.13"
  }
 },
 "nbformat": 4,
 "nbformat_minor": 2
}
